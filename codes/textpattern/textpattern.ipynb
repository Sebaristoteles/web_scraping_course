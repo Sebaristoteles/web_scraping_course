{
 "cells": [
  {
   "cell_type": "markdown",
   "metadata": {},
   "source": [
    "# Text pattern matching"
   ]
  },
  {
   "cell_type": "code",
   "execution_count": null,
   "metadata": {},
   "outputs": [],
   "source": [
    "import re\n",
    "import requests"
   ]
  },
  {
   "cell_type": "markdown",
   "metadata": {},
   "source": [
    "Load data (i.e. html string)"
   ]
  },
  {
   "cell_type": "code",
   "execution_count": null,
   "metadata": {},
   "outputs": [],
   "source": [
    "url = \"https://www.ebay-kleinanzeigen.de/s-gewerbeimmobilien/berlin/c277l3331\"\n",
    "r = requests.get(url)\n",
    "html = r.text"
   ]
  },
  {
   "cell_type": "markdown",
   "metadata": {},
   "source": [
    "Check cheat sheet for Python's regex\n",
    "https://www.dataquest.io/wp-content/uploads/2019/03/python-regular-expressions-cheat-sheet.pdf"
   ]
  },
  {
   "cell_type": "markdown",
   "metadata": {},
   "source": [
    "Search for all href tags with http or https links"
   ]
  },
  {
   "cell_type": "code",
   "execution_count": null,
   "metadata": {},
   "outputs": [],
   "source": [
    "# Find all href tags with http(s) link\n",
    "re.findall('href=\"https?://.*?\"', html)"
   ]
  },
  {
   "cell_type": "markdown",
   "metadata": {},
   "source": [
    "Check cheat sheet to see which special sequences we added."
   ]
  },
  {
   "cell_type": "code",
   "execution_count": null,
   "metadata": {},
   "outputs": [],
   "source": [
    "# Find all href tags with http(s) link and return links only\n",
    "re.findall('href=\"(https?://.*?)\"', html)"
   ]
  },
  {
   "cell_type": "markdown",
   "metadata": {},
   "source": [
    "What is the difference to the code above?"
   ]
  },
  {
   "cell_type": "code",
   "execution_count": null,
   "metadata": {},
   "outputs": [],
   "source": [
    "# Find all href tags with http(s) link and split\n",
    "links_parts = re.findall('href=\"(https?)://(.*?)\"', html)"
   ]
  },
  {
   "cell_type": "code",
   "execution_count": null,
   "metadata": {},
   "outputs": [],
   "source": [
    "[x[0] for x in links_parts]"
   ]
  },
  {
   "cell_type": "code",
   "execution_count": null,
   "metadata": {},
   "outputs": [],
   "source": [
    "[x[1] for x in links_parts]"
   ]
  },
  {
   "cell_type": "markdown",
   "metadata": {},
   "source": [
    "In order to extract prices we use different special sequences. Can you list them all?"
   ]
  },
  {
   "cell_type": "code",
   "execution_count": null,
   "metadata": {},
   "outputs": [],
   "source": [
    "# Find all prices\n",
    "prices = re.findall('(\\\\d+(\\\\.?\\\\d+)*,?\\\\d*\\\\s€)', html)\n",
    "prices = [x[0] for x in prices]\n",
    "prices"
   ]
  },
  {
   "cell_type": "code",
   "execution_count": null,
   "metadata": {},
   "outputs": [],
   "source": [
    "prices_clean = [re.sub('[^(\\\\d,)]', '', x) for x in prices]\n",
    "prices_clean"
   ]
  },
  {
   "cell_type": "markdown",
   "metadata": {},
   "source": [
    "## Greedy matching"
   ]
  },
  {
   "cell_type": "code",
   "execution_count": null,
   "metadata": {},
   "outputs": [],
   "source": [
    "string = '<div class=\"conditionalcomment-outcomeboxbody\"><p>Du verwendest derzeit eine alte Version des Internet Explorers. eBay Kleinanzeigen funktioniert besser, wenn du einen <a class=\"lnk-action\" href=\"https://www.mozilla.org/de/firefox/new/\" target=\"_blank\">aktuellen Browser installierst</a>.</p></div>\\n This is a new line. As the regex dot . does not match line terminators like \\n this part should not be returned in any example below. '\n",
    "string"
   ]
  },
  {
   "cell_type": "code",
   "execution_count": null,
   "metadata": {},
   "outputs": [],
   "source": [
    "# Use greedy matching (without \" at the end)\n",
    "re.findall('href=\"https?://.*', string)"
   ]
  },
  {
   "cell_type": "markdown",
   "metadata": {},
   "source": [
    "Keep in mind that regex dot <b>.</b>  does not match line terminators like <b>\\n</b>."
   ]
  },
  {
   "cell_type": "code",
   "execution_count": null,
   "metadata": {},
   "outputs": [],
   "source": [
    "# Use non-greedy matching (without \" at the end)\n",
    "re.findall('href=\"https?://.*?', string)"
   ]
  },
  {
   "cell_type": "code",
   "execution_count": null,
   "metadata": {},
   "outputs": [],
   "source": [
    "# But what we actually want to get is the non-greedy matching followed by \" at the end.\n",
    "re.findall('href=\"https?://.*?\"', string)"
   ]
  }
 ],
 "metadata": {
  "kernelspec": {
   "display_name": "web_scraping_course",
   "language": "python",
   "name": "webscraping_course"
  },
  "language_info": {
   "codemirror_mode": {
    "name": "ipython",
    "version": 3
   },
   "file_extension": ".py",
   "mimetype": "text/x-python",
   "name": "python",
   "nbconvert_exporter": "python",
   "pygments_lexer": "ipython3",
   "version": "3.7.3"
  }
 },
 "nbformat": 4,
 "nbformat_minor": 2
}
