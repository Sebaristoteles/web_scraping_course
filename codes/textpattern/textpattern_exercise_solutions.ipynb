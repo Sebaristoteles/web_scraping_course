{
 "cells": [
  {
   "cell_type": "markdown",
   "metadata": {},
   "source": [
    "# Text pattern exercises"
   ]
  },
  {
   "cell_type": "code",
   "execution_count": null,
   "metadata": {},
   "outputs": [],
   "source": [
    "import re\n",
    "import requests\n",
    "import datetime"
   ]
  },
  {
   "cell_type": "markdown",
   "metadata": {},
   "source": [
    "## Get first 10 pages"
   ]
  },
  {
   "cell_type": "code",
   "execution_count": null,
   "metadata": {},
   "outputs": [],
   "source": [
    "# Get src of the first 10 pages\n",
    "# Start with 'https://www.ebay-kleinanzeigen.de/s-gewerbeimmobilien/berlin/seite:1/c277l3331'\n",
    "\n",
    "# Get src of url and add to\n",
    "def url_add_src(page, url_base, url_prefix, url_suffix, init_src=''):\n",
    "    url = url_base + url_prefix + str(page) + url_suffix\n",
    "    r = requests.get(url)\n",
    "    init_src += r.text\n",
    "    return init_src\n",
    "\n",
    "\n",
    "src = ''\n",
    "for i in range(1, 10 + 1):\n",
    "    src = url_add_src(i,\n",
    "                      'https://www.ebay-kleinanzeigen.de/',\n",
    "                      's-gewerbeimmobilien/berlin/seite:',\n",
    "                      '/c277l3331',\n",
    "                      src)"
   ]
  },
  {
   "cell_type": "markdown",
   "metadata": {},
   "source": [
    "## Drop prices per sqm"
   ]
  },
  {
   "cell_type": "code",
   "execution_count": null,
   "metadata": {},
   "outputs": [],
   "source": [
    "# Find all prices\n",
    "prices = re.findall('<strong>(\\\\d+\\\\.?\\\\d+\\\\s?€)</strong>', src)\n",
    "prices"
   ]
  },
  {
   "cell_type": "markdown",
   "metadata": {},
   "source": [
    "## Find all dates in the format Day.Month.Year"
   ]
  },
  {
   "cell_type": "code",
   "execution_count": null,
   "metadata": {},
   "outputs": [],
   "source": [
    "# Find all dates in the format Day.Month.Year\n",
    "dates = re.findall('\\\\d{2}\\\\.\\\\d{2}\\\\.\\\\d{4}', src)\n",
    "dates"
   ]
  },
  {
   "cell_type": "markdown",
   "metadata": {},
   "source": [
    "## Convert to pythons datetime format"
   ]
  },
  {
   "cell_type": "code",
   "execution_count": null,
   "metadata": {},
   "outputs": [],
   "source": [
    "# Convert in pythons datetime format\n",
    "dates_py_format = [datetime.datetime.strptime(i, '%d.%m.%Y') for i in dates]\n",
    "dates_py_format"
   ]
  },
  {
   "cell_type": "markdown",
   "metadata": {},
   "source": [
    "## Advanced: Find all dates including todays and yesterday entries"
   ]
  },
  {
   "cell_type": "code",
   "execution_count": null,
   "metadata": {},
   "outputs": [],
   "source": [
    "# Advanced: Find all dates including todays and yesterday entries\n",
    "dates = re.findall('[A-Za-z]{5,7}, \\\\d{2}:\\\\d{2}|\\\\d{2}\\\\.\\\\d{2}\\\\.\\\\d{4}', src)\n",
    "\n",
    "\n",
    "def replace_day_string(dates_list, day_string, new_date):\n",
    "    repl = [re.sub(day_string + ', \\\\d{2}:\\\\d{2}',\n",
    "                   '.'.join([f\"{new_date:%d}\",\n",
    "                             f\"{new_date:%m}\",\n",
    "                             f\"{new_date:%Y}\"]), x) for x in dates_list]\n",
    "    return repl\n",
    "\n",
    "\n",
    "# Replace \"Heute\"\n",
    "dates = replace_day_string(dates, 'Heute', datetime.datetime.now())\n",
    "\n",
    "# Replace \"Gestern\"\n",
    "dates = replace_day_string(dates,\n",
    "                           'Gestern',\n",
    "                           datetime.datetime.now() - datetime.timedelta(days=1))\n",
    "\n",
    "# Print result\n",
    "dates\n",
    "\n",
    "# Convert in pythons datetime format\n",
    "dates_py_format = [datetime.datetime.strptime(i, '%d.%m.%Y') for i in dates]\n",
    "dates_py_format"
   ]
  }
 ],
 "metadata": {
  "kernelspec": {
   "display_name": "web_scraping_course",
   "language": "python",
   "name": "webscraping_course"
  },
  "language_info": {
   "codemirror_mode": {
    "name": "ipython",
    "version": 3
   },
   "file_extension": ".py",
   "mimetype": "text/x-python",
   "name": "python",
   "nbconvert_exporter": "python",
   "pygments_lexer": "ipython3",
   "version": "3.7.3"
  }
 },
 "nbformat": 4,
 "nbformat_minor": 2
}
