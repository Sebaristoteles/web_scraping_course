{
 "cells": [
  {
   "cell_type": "code",
   "execution_count": 5,
   "metadata": {},
   "outputs": [],
   "source": [
    "###############################################################################\n",
    "##################### CODE FOR THE BCCP WEB SCRAPING COURSE ###################\n",
    "############################## JUNE 24 TO 26, 2019 ############################\n",
    "######################### SECTION ON BROWSER AUTOMATION #######################\n",
    "###############################################################################\n",
    "\n",
    "# Location to your browser driver and program file\n",
    "browser_driver = \\\n",
    "    \"C:/Users/kevin/Dropbox/Coding_Templates/Python/selenium/chromedriver.exe\"\n",
    "browser_app = \"C:/Program Files (x86)/Google/Chrome/Application/chrome.exe\"\n",
    "\n",
    "###############################################################################\n",
    "############################## LOAD NEEDED MODULES ############################\n",
    "###############################################################################\n",
    "\n",
    "# Show everything in Jupyter notebooks (not just last result)\n",
    "from IPython.core.interactiveshell import InteractiveShell\n",
    "InteractiveShell.ast_node_interactivity = \"all\"\n",
    "# Load different functions/classes from selenium\n",
    "# webdriver to start an instance of a webdriver\n",
    "from selenium import webdriver\n",
    "# Options to set Chrome options\n",
    "from selenium.webdriver.chrome.options import Options\n",
    "# BeautifulSoup to turn source code into navigable Python object\n",
    "from bs4 import BeautifulSoup\n",
    "# Pandas to convert to DataFrame\n",
    "import pandas as pd\n"
   ]
  },
  {
   "cell_type": "code",
   "execution_count": null,
   "metadata": {},
   "outputs": [],
   "source": [
    "# 1. Load events page\n",
    "# 2. Save details\n",
    "# 3. Click on button to load next events page\n",
    "# 4. Save details\n",
    "# 5. Repeat until we saved all"
   ]
  },
  {
   "cell_type": "code",
   "execution_count": 8,
   "metadata": {},
   "outputs": [],
   "source": [
    "###############################################################################\n",
    "####################### 1. LOAD PAGE WITH FUTURE EVENTS #######################\n",
    "###############################################################################\n",
    "### Start a selenium instance\n",
    "# Set Chrome options for webdriver\n",
    "chrome_options = Options()\n",
    "# Location of browser executable\n",
    "chrome_options.binary_location = browser_app\n",
    "### Some other options that might be useful:\n",
    "## Window size\n",
    "# chrome_options.add_argument(\"--window-size=1200,900\")\n",
    "## Headless (Does not show the browser)\n",
    "# chrome_options.set_headless(headless=True)\n",
    "# Start webdriver (need to include path to driver)\n",
    "\n",
    "### Start the driver (this should open an empty browser windows)\n",
    "driver = webdriver.Chrome(browser_driver, options = chrome_options)"
   ]
  },
  {
   "cell_type": "code",
   "execution_count": 9,
   "metadata": {},
   "outputs": [],
   "source": [
    "# Load the events page\n",
    "url = \"https://www.berlin-econ.de/events\"\n",
    "driver.get(url)\n",
    "# Get source code\n",
    "html = driver.page_source\n",
    "# Turn source code to soup\n",
    "soup = BeautifulSoup(html, \"lxml\")"
   ]
  }
 ],
 "metadata": {
  "kernelspec": {
   "display_name": "Python 3",
   "language": "python",
   "name": "python3"
  },
  "language_info": {
   "codemirror_mode": {
    "name": "ipython",
    "version": 3
   },
   "file_extension": ".py",
   "mimetype": "text/x-python",
   "name": "python",
   "nbconvert_exporter": "python",
   "pygments_lexer": "ipython3",
   "version": "3.7.3"
  }
 },
 "nbformat": 4,
 "nbformat_minor": 2
}
