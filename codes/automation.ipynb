{
 "cells": [
  {
   "cell_type": "code",
   "execution_count": 62,
   "metadata": {},
   "outputs": [],
   "source": [
    "###############################################################################\n",
    "##################### CODE FOR THE BCCP WEB SCRAPING COURSE ###################\n",
    "############################## JUNE 24 TO 26, 2019 ############################\n",
    "######################### SECTION ON BROWSER AUTOMATION #######################\n",
    "###############################################################################\n",
    "\n",
    "# Location to your browser driver and program file\n",
    "browser_driver = \\\n",
    "    \"C:/Users/kevin/Dropbox/Coding_Templates/Python/selenium/chromedriver.exe\"\n",
    "browser_app = \"C:/Program Files (x86)/Google/Chrome/Application/chrome.exe\"\n",
    "\n",
    "###############################################################################\n",
    "############################## LOAD NEEDED MODULES ############################\n",
    "###############################################################################\n",
    "\n",
    "# Show everything in Jupyter notebooks (not just last result)\n",
    "from IPython.core.interactiveshell import InteractiveShell\n",
    "InteractiveShell.ast_node_interactivity = \"all\"\n",
    "# Load different functions/classes from selenium\n",
    "# webdriver to start an instance of a webdriver\n",
    "from selenium import webdriver\n",
    "# Options to set Chrome options\n",
    "from selenium.webdriver.chrome.options import Options\n",
    "# BeautifulSoup to turn source code into navigable Python object\n",
    "from bs4 import BeautifulSoup\n",
    "# Pandas to convert to DataFrame\n",
    "import pandas as pd\n",
    "# ActionChains to interact with a website through selenium\n",
    "from selenium.webdriver.common.action_chains import ActionChains\n"
   ]
  },
  {
   "cell_type": "markdown",
   "metadata": {},
   "source": [
    "<h1>Approach</h1>\n",
    "<ol>\n",
    "    <li> Load events page\n",
    "    <li> Loop through elements\n",
    "        <ol>\n",
    "            <li> Save date\n",
    "            <li> Save events details\n",
    "            <li> Click 'Next' button (If no 'Next' button, exit)\n",
    "        </ol>\n",
    "     <li> Turn to DataFrame and save\n",
    "</ol>"
   ]
  },
  {
   "cell_type": "markdown",
   "metadata": {},
   "source": [
    "<h2>1. Loading the events page</h2>\n",
    "<a href=\"https://www.berlin-econ.de/events\">https://www.berlin-econ.de/events</a>"
   ]
  },
  {
   "cell_type": "code",
   "execution_count": 64,
   "metadata": {},
   "outputs": [],
   "source": [
    "###############################################################################\n",
    "####################### 1. LOAD PAGE WITH FUTURE EVENTS #######################\n",
    "###############################################################################\n",
    "### Start a selenium instance\n",
    "# Set Chrome options for webdriver\n",
    "chrome_options = Options()\n",
    "# Location of browser executable\n",
    "chrome_options.binary_location = browser_app\n",
    "### Some other options that might be useful:\n",
    "## Window size\n",
    "# chrome_options.add_argument(\"--window-size=1200,900\")\n",
    "## Headless (Does not show the browser)\n",
    "# chrome_options.set_headless(headless=True)\n",
    "# Start webdriver (need to include path to driver)\n",
    "\n",
    "### Start the driver (this should open an empty browser windows)\n",
    "driver = webdriver.Chrome(browser_driver, options = chrome_options)"
   ]
  },
  {
   "cell_type": "code",
   "execution_count": 65,
   "metadata": {},
   "outputs": [],
   "source": [
    "# Load the events page\n",
    "url = \"https://www.berlin-econ.de/events\"\n",
    "driver.get(url)\n",
    "# Get source code\n",
    "html = driver.page_source\n",
    "# Turn source code to soup\n",
    "soup = BeautifulSoup(html, \"lxml\")"
   ]
  },
  {
   "cell_type": "markdown",
   "metadata": {},
   "source": [
    "<h2>2. Loop through the results elements</h2>"
   ]
  },
  {
   "cell_type": "code",
   "execution_count": 66,
   "metadata": {},
   "outputs": [
    {
     "ename": "TypeError",
     "evalue": "'NoneType' object is not callable",
     "output_type": "error",
     "traceback": [
      "\u001b[1;31m---------------------------------------------------------------------------\u001b[0m",
      "\u001b[1;31mTypeError\u001b[0m                                 Traceback (most recent call last)",
      "\u001b[1;32m<ipython-input-66-726e435dea26>\u001b[0m in \u001b[0;36m<module>\u001b[1;34m\u001b[0m\n\u001b[0;32m      7\u001b[0m     \u001b[1;31m# Skip white spaces\u001b[0m\u001b[1;33m\u001b[0m\u001b[1;33m\u001b[0m\u001b[1;33m\u001b[0m\u001b[0m\n\u001b[0;32m      8\u001b[0m     \u001b[1;32mtry\u001b[0m\u001b[1;33m:\u001b[0m\u001b[1;33m\u001b[0m\u001b[1;33m\u001b[0m\u001b[0m\n\u001b[1;32m----> 9\u001b[1;33m         \u001b[1;32mif\u001b[0m \u001b[0mel\u001b[0m\u001b[1;33m.\u001b[0m\u001b[0mstrip\u001b[0m\u001b[1;33m(\u001b[0m\u001b[1;33m)\u001b[0m \u001b[1;33m==\u001b[0m \u001b[1;34m\"\"\u001b[0m\u001b[1;33m:\u001b[0m\u001b[1;33m\u001b[0m\u001b[1;33m\u001b[0m\u001b[0m\n\u001b[0m\u001b[0;32m     10\u001b[0m             \u001b[1;31m# continue loop with next iteration\u001b[0m\u001b[1;33m\u001b[0m\u001b[1;33m\u001b[0m\u001b[1;33m\u001b[0m\u001b[0m\n\u001b[0;32m     11\u001b[0m             \u001b[1;32mpass\u001b[0m\u001b[1;33m\u001b[0m\u001b[1;33m\u001b[0m\u001b[0m\n",
      "\u001b[1;31mTypeError\u001b[0m: 'NoneType' object is not callable"
     ]
    }
   ],
   "source": [
    "# Take element with results\n",
    "results = soup.find(\"div\", class_ = \"event-results\")\n",
    "# Loop through children\n",
    "# Save in dictionary\n",
    "resdict = {}\n",
    "for el in results.children:\n",
    "    # Skip white spaces\n",
    "    try:\n",
    "        if el.strip() == \"\":\n",
    "            # continue loop with next iteration\n",
    "            pass\n",
    "    # Do something else if TypeError\n",
    "    except TypeError:\n",
    "        ### If there is a TypeError, the element should be one of three:\n",
    "        # A date: <div class='event-date-separator'>\n",
    "        # A list of events: <div class='ui segments'>\n",
    "        # The page buttons: <div class='ui pagination menu'>\n",
    "        \n",
    "        # Take the element class to evaluate what type it is\n",
    "        divclass = \" \".join(el[\"class\"])\n",
    "        \n",
    "        ### Date element\n",
    "        if divclass == \"event-date-separator\":\n",
    "            # Take the value in <span class='mobile hidden tablet hidden'>\n",
    "            date = el.find(\"span\", class_ = \"mobile hidden tablet hidden\") \\\n",
    "                .text.strip()\n",
    "        ### Element containing all events for this date\n",
    "        elif divclass == \"ui segments\":\n",
    "            # Take list of events\n",
    "            eventlist = el.find_all(\"div\", class_ = \"ui segment\")\n",
    "            # Loop through events and save\n",
    "            for event in eventlist:\n",
    "                # Location\n",
    "                location = event.find(\"div\", class_ = \"ui red ribbon label\") \\\n",
    "                    .text.strip()\n",
    "                # Speaker (some don't have one)\n",
    "                speaker = event.find(\"div\", class_ = \"speaker\")\n",
    "                if speaker != None:\n",
    "                    speaker = speaker.text.strip()\n",
    "                # Link and title\n",
    "                link = event.find(\"div\", class_ = \"content\").find(\"a\")[\"href\"] \\\n",
    "                    .strip()\n",
    "                title = event.find(\"div\", class_ = \"content\").find(\"a\")[\"title\"] \\\n",
    "                    .strip()\n",
    "                # Other details (some don't have one)\n",
    "                desc = event.find(\"div\", class_ = \"description mobile hidden\") \n",
    "                if desc != None:\n",
    "                    desc = desc.text.strip()\n",
    "                \n",
    "                # Event type\n",
    "                evtype = event.find(\"div\", class_ = \"ui bottom right attached label\") \\\n",
    "                    [\"title\"].strip()\n",
    "                \n",
    "                # Save in dict\n",
    "                resdict[len(resdict)] = {\n",
    "                    \"date\": date,\n",
    "                    \"location\": location,\n",
    "                    \"speaker\": speaker,\n",
    "                    \"link\": link,\n",
    "                    \"title\": title,\n",
    "                    \"desc\": desc,\n",
    "                    \"evtype\": evtype,\n",
    "                }\n",
    "        ### If arrived at buttons, press next\n",
    "        elif divclass == \"ui pagination menu\":\n",
    "            # This now requires selenium\n",
    "            # Lets stop here the first time and see how to do it\n",
    "            raise"
   ]
  },
  {
   "cell_type": "code",
   "execution_count": 67,
   "metadata": {
    "scrolled": true
   },
   "outputs": [
    {
     "data": {
      "text/plain": [
       "{0: {'date': 'Monday, 17. June 2019',\n",
       "  'location': 'DIW Berlin im Quartier 110',\n",
       "  'speaker': None,\n",
       "  'link': 'https://www.berlin-econ.de/event/workshop-for-women-in-macroeconomics-finance-and-economic-history',\n",
       "  'title': 'Workshop for Women in Macroeconomics, Finance, and Economic History',\n",
       "  'desc': 'The 1st annual Workshop for Women in Macroeconomics, Finance and Economic History is being organized by the DIW Berlin.\\xa0The aim is to bring together',\n",
       "  'evtype': 'Workshop'},\n",
       " 1: {'date': 'Monday, 17. June 2019',\n",
       "  'location': 'WZB Berlin',\n",
       "  'speaker': 'Ricardo Alonso, LSE',\n",
       "  'link': 'https://www.berlin-econ.de/event/to-be-announced-6',\n",
       "  'title': 'Tampering with Information',\n",
       "  'desc': None,\n",
       "  'evtype': 'Berlin Micro Theory Seminar Series'},\n",
       " 2: {'date': 'Monday, 17. June 2019',\n",
       "  'location': 'HU Berlin',\n",
       "  'speaker': 'Sandra McNally, University of Surrey and London School of Economics',\n",
       "  'link': 'https://www.berlin-econ.de/event/to-be-announced-235',\n",
       "  'title': 'Closing the Gap Between Vocational and GeneralEducation? - Evidence from University Technical Colleges in England',\n",
       "  'desc': 'Countries such as the UK and the US, with a weak recent history of vocational education, have begun to set up specialist schools in technical education. We evaluate the effect of attending these new i…',\n",
       "  'evtype': 'Berlin Applied Micro Seminar (BAMS)'},\n",
       " 3: {'date': 'Monday, 17. June 2019',\n",
       "  'location': 'Berlin Social Science Center',\n",
       "  'speaker': 'Francesco Amodio, McGill University\\n\\n with Giorgio Chiovelli, London Business School and Sebastian Hohmann, Stockholm School of Economics',\n",
       "  'link': 'https://www.berlin-econ.de/event/to-be-announced-81',\n",
       "  'title': 'Ethnic Favoritism in Democracy: The Political Economy of Land and Labor in Sub-Saharan Africa (with Giorgio Chiovelli and Sebastian Hohmann)',\n",
       "  'desc': 'Note: This will be a joint seminar with the IPI team at the Berlin Social Science Center (WZB) Room B 001.',\n",
       "  'evtype': 'Political Economy Lunch Seminar'},\n",
       " 4: {'date': 'Tuesday, 18. June 2019',\n",
       "  'location': 'HU Berlin',\n",
       "  'speaker': 'Beata Javorcik, University of Oxford',\n",
       "  'link': 'https://www.berlin-econ.de/event/to-be-announced-131',\n",
       "  'title': 'Financial Constraints and Propagation of Shocks in Production Networks',\n",
       "  'desc': 'Coauthored with Banu Demir, Tomasz Michalski and Evren Ors.',\n",
       "  'evtype': 'Schumpeterseminar'},\n",
       " 5: {'date': 'Tuesday, 18. June 2019',\n",
       "  'location': 'ESMT Berlin',\n",
       "  'speaker': 'Amandine Ody-Brasier, Yale University',\n",
       "  'link': 'https://www.berlin-econ.de/event/to-be-announced-116',\n",
       "  'title': 'To be announced',\n",
       "  'desc': None,\n",
       "  'evtype': 'Faculty Research Seminar'},\n",
       " 6: {'date': 'Wednesday, 19. June 2019',\n",
       "  'location': 'Joan Robinson Room',\n",
       "  'speaker': 'Raffaella Giacomini, University College London',\n",
       "  'link': 'https://www.berlin-econ.de/event/microforecasting-with-individual-forecast-selection',\n",
       "  'title': 'Microforecasting with Individual Forecast Selection',\n",
       "  'desc': None,\n",
       "  'evtype': 'DIW Seminar on Macroeconomics and Financial Markets'},\n",
       " 7: {'date': 'Wednesday, 19. June 2019',\n",
       "  'location': 'HU Berlin',\n",
       "  'speaker': 'Tobias König, HU Berlin, DIW Berlin',\n",
       "  'link': 'https://www.berlin-econ.de/event/to-be-announced-146',\n",
       "  'title': 'The Financial Accelerator and Optimal Monetary Policy',\n",
       "  'desc': None,\n",
       "  'evtype': 'Brown Bag Seminar HU Berlin'},\n",
       " 8: {'date': 'Wednesday, 19. June 2019',\n",
       "  'location': 'WIAS Berlin',\n",
       "  'speaker': 'Karel Hron, Palacky University',\n",
       "  'link': 'https://www.berlin-econ.de/event/to-be-announced-158',\n",
       "  'title': 'Weighting of densities in Bayes spaces with application to simplicial functional principal component analysis',\n",
       "  'desc': 'Probability density functions (PDFs) can be understood as functional data carryingrelative information. As such, standard methods of functional data analysis (FDA) are not appropriatefor their statist…',\n",
       "  'evtype': 'Mathematical Statistics Seminar'},\n",
       " 9: {'date': 'Wednesday, 19. June 2019',\n",
       "  'location': 'HU Berlin',\n",
       "  'speaker': 'Christoph Koenig, University of Bristol',\n",
       "  'link': 'https://www.berlin-econ.de/event/to-be-announced-133',\n",
       "  'title': 'To be announced',\n",
       "  'desc': None,\n",
       "  'evtype': 'Berliner Forschungskolloquium Wirtschafts- und Sozialgeschichte'}}"
      ]
     },
     "execution_count": 67,
     "metadata": {},
     "output_type": "execute_result"
    }
   ],
   "source": [
    "resdict"
   ]
  },
  {
   "cell_type": "code",
   "execution_count": 73,
   "metadata": {},
   "outputs": [
    {
     "data": {
      "text/plain": [
       "'page:2'"
      ]
     },
     "execution_count": 73,
     "metadata": {},
     "output_type": "execute_result"
    }
   ],
   "source": [
    "### Find which one will be the next page\n",
    "# Take the very last button and check if the contents contain \"Next\"\n",
    "# If so, use the value of the \"data-request-data\" attribute of this\n",
    "# tag\n",
    "# If it does not contain \"Next\", then we just loaded the last page and we are done\n",
    "next_content = el.find_all(\"a\", class_ = \"item\")[-1]\n",
    "if \"Next\" in next_content.text:\n",
    "    next_page = next_content[\"data-request-data\"]\n",
    "else:\n",
    "    pass\n",
    "next_page"
   ]
  },
  {
   "cell_type": "code",
   "execution_count": 69,
   "metadata": {},
   "outputs": [],
   "source": [
    "### Scroll the buttons into view\n",
    "# Find the element for the next page in selenium using XPATH\n",
    "xpathfind = \"//div[@class='ui pagination menu']/\" \\\n",
    "    \"a[@data-request-data='%s']\" % next_page\n",
    "element = driver.find_element_by_xpath(xpathfind)\n",
    "# Start ActionChain to control the browser\n",
    "actions = ActionChains(driver)"
   ]
  },
  {
   "cell_type": "code",
   "execution_count": 70,
   "metadata": {},
   "outputs": [],
   "source": [
    "# Scroll into view\n",
    "actions.move_to_element(element).perform()"
   ]
  },
  {
   "cell_type": "code",
   "execution_count": 71,
   "metadata": {},
   "outputs": [],
   "source": [
    "# Click on the button\n",
    "actions.click(element).perform()"
   ]
  },
  {
   "cell_type": "code",
   "execution_count": 72,
   "metadata": {
    "scrolled": true
   },
   "outputs": [
    {
     "ename": "StaleElementReferenceException",
     "evalue": "Message: stale element reference: element is not attached to the page document\n  (Session info: chrome=75.0.3770.90)\n  (Driver info: chromedriver=74.0.3729.6 (255758eccf3d244491b8a1317aa76e1ce10d57e9-refs/branch-heads/3729@{#29}),platform=Windows NT 10.0.17763 x86_64)\n",
     "output_type": "error",
     "traceback": [
      "\u001b[1;31m---------------------------------------------------------------------------\u001b[0m",
      "\u001b[1;31mStaleElementReferenceException\u001b[0m            Traceback (most recent call last)",
      "\u001b[1;32m<ipython-input-72-f32b7b3d0d9b>\u001b[0m in \u001b[0;36m<module>\u001b[1;34m\u001b[0m\n\u001b[0;32m      1\u001b[0m \u001b[1;31m# Could also have done in one line:\u001b[0m\u001b[1;33m\u001b[0m\u001b[1;33m\u001b[0m\u001b[1;33m\u001b[0m\u001b[0m\n\u001b[1;32m----> 2\u001b[1;33m \u001b[0mactions\u001b[0m\u001b[1;33m.\u001b[0m\u001b[0mmove_to_element\u001b[0m\u001b[1;33m(\u001b[0m\u001b[0melement\u001b[0m\u001b[1;33m)\u001b[0m\u001b[1;33m.\u001b[0m\u001b[0mclick\u001b[0m\u001b[1;33m(\u001b[0m\u001b[0melement\u001b[0m\u001b[1;33m)\u001b[0m\u001b[1;33m.\u001b[0m\u001b[0mperform\u001b[0m\u001b[1;33m(\u001b[0m\u001b[1;33m)\u001b[0m\u001b[1;33m\u001b[0m\u001b[1;33m\u001b[0m\u001b[0m\n\u001b[0m",
      "\u001b[1;32m~\\Miniconda3\\envs\\bccpcourse\\lib\\site-packages\\selenium\\webdriver\\common\\action_chains.py\u001b[0m in \u001b[0;36mperform\u001b[1;34m(self)\u001b[0m\n\u001b[0;32m     81\u001b[0m         \u001b[1;32melse\u001b[0m\u001b[1;33m:\u001b[0m\u001b[1;33m\u001b[0m\u001b[1;33m\u001b[0m\u001b[0m\n\u001b[0;32m     82\u001b[0m             \u001b[1;32mfor\u001b[0m \u001b[0maction\u001b[0m \u001b[1;32min\u001b[0m \u001b[0mself\u001b[0m\u001b[1;33m.\u001b[0m\u001b[0m_actions\u001b[0m\u001b[1;33m:\u001b[0m\u001b[1;33m\u001b[0m\u001b[1;33m\u001b[0m\u001b[0m\n\u001b[1;32m---> 83\u001b[1;33m                 \u001b[0maction\u001b[0m\u001b[1;33m(\u001b[0m\u001b[1;33m)\u001b[0m\u001b[1;33m\u001b[0m\u001b[1;33m\u001b[0m\u001b[0m\n\u001b[0m\u001b[0;32m     84\u001b[0m \u001b[1;33m\u001b[0m\u001b[0m\n\u001b[0;32m     85\u001b[0m     \u001b[1;32mdef\u001b[0m \u001b[0mreset_actions\u001b[0m\u001b[1;33m(\u001b[0m\u001b[0mself\u001b[0m\u001b[1;33m)\u001b[0m\u001b[1;33m:\u001b[0m\u001b[1;33m\u001b[0m\u001b[1;33m\u001b[0m\u001b[0m\n",
      "\u001b[1;32m~\\Miniconda3\\envs\\bccpcourse\\lib\\site-packages\\selenium\\webdriver\\common\\action_chains.py\u001b[0m in \u001b[0;36m<lambda>\u001b[1;34m()\u001b[0m\n\u001b[0;32m    275\u001b[0m         \u001b[1;32melse\u001b[0m\u001b[1;33m:\u001b[0m\u001b[1;33m\u001b[0m\u001b[1;33m\u001b[0m\u001b[0m\n\u001b[0;32m    276\u001b[0m             self._actions.append(lambda: self._driver.execute(\n\u001b[1;32m--> 277\u001b[1;33m                                  Command.MOVE_TO, {'element': to_element.id}))\n\u001b[0m\u001b[0;32m    278\u001b[0m         \u001b[1;32mreturn\u001b[0m \u001b[0mself\u001b[0m\u001b[1;33m\u001b[0m\u001b[1;33m\u001b[0m\u001b[0m\n\u001b[0;32m    279\u001b[0m \u001b[1;33m\u001b[0m\u001b[0m\n",
      "\u001b[1;32m~\\Miniconda3\\envs\\bccpcourse\\lib\\site-packages\\selenium\\webdriver\\remote\\webdriver.py\u001b[0m in \u001b[0;36mexecute\u001b[1;34m(self, driver_command, params)\u001b[0m\n\u001b[0;32m    319\u001b[0m         \u001b[0mresponse\u001b[0m \u001b[1;33m=\u001b[0m \u001b[0mself\u001b[0m\u001b[1;33m.\u001b[0m\u001b[0mcommand_executor\u001b[0m\u001b[1;33m.\u001b[0m\u001b[0mexecute\u001b[0m\u001b[1;33m(\u001b[0m\u001b[0mdriver_command\u001b[0m\u001b[1;33m,\u001b[0m \u001b[0mparams\u001b[0m\u001b[1;33m)\u001b[0m\u001b[1;33m\u001b[0m\u001b[1;33m\u001b[0m\u001b[0m\n\u001b[0;32m    320\u001b[0m         \u001b[1;32mif\u001b[0m \u001b[0mresponse\u001b[0m\u001b[1;33m:\u001b[0m\u001b[1;33m\u001b[0m\u001b[1;33m\u001b[0m\u001b[0m\n\u001b[1;32m--> 321\u001b[1;33m             \u001b[0mself\u001b[0m\u001b[1;33m.\u001b[0m\u001b[0merror_handler\u001b[0m\u001b[1;33m.\u001b[0m\u001b[0mcheck_response\u001b[0m\u001b[1;33m(\u001b[0m\u001b[0mresponse\u001b[0m\u001b[1;33m)\u001b[0m\u001b[1;33m\u001b[0m\u001b[1;33m\u001b[0m\u001b[0m\n\u001b[0m\u001b[0;32m    322\u001b[0m             response['value'] = self._unwrap_value(\n\u001b[0;32m    323\u001b[0m                 response.get('value', None))\n",
      "\u001b[1;32m~\\Miniconda3\\envs\\bccpcourse\\lib\\site-packages\\selenium\\webdriver\\remote\\errorhandler.py\u001b[0m in \u001b[0;36mcheck_response\u001b[1;34m(self, response)\u001b[0m\n\u001b[0;32m    240\u001b[0m                 \u001b[0malert_text\u001b[0m \u001b[1;33m=\u001b[0m \u001b[0mvalue\u001b[0m\u001b[1;33m[\u001b[0m\u001b[1;34m'alert'\u001b[0m\u001b[1;33m]\u001b[0m\u001b[1;33m.\u001b[0m\u001b[0mget\u001b[0m\u001b[1;33m(\u001b[0m\u001b[1;34m'text'\u001b[0m\u001b[1;33m)\u001b[0m\u001b[1;33m\u001b[0m\u001b[1;33m\u001b[0m\u001b[0m\n\u001b[0;32m    241\u001b[0m             \u001b[1;32mraise\u001b[0m \u001b[0mexception_class\u001b[0m\u001b[1;33m(\u001b[0m\u001b[0mmessage\u001b[0m\u001b[1;33m,\u001b[0m \u001b[0mscreen\u001b[0m\u001b[1;33m,\u001b[0m \u001b[0mstacktrace\u001b[0m\u001b[1;33m,\u001b[0m \u001b[0malert_text\u001b[0m\u001b[1;33m)\u001b[0m\u001b[1;33m\u001b[0m\u001b[1;33m\u001b[0m\u001b[0m\n\u001b[1;32m--> 242\u001b[1;33m         \u001b[1;32mraise\u001b[0m \u001b[0mexception_class\u001b[0m\u001b[1;33m(\u001b[0m\u001b[0mmessage\u001b[0m\u001b[1;33m,\u001b[0m \u001b[0mscreen\u001b[0m\u001b[1;33m,\u001b[0m \u001b[0mstacktrace\u001b[0m\u001b[1;33m)\u001b[0m\u001b[1;33m\u001b[0m\u001b[1;33m\u001b[0m\u001b[0m\n\u001b[0m\u001b[0;32m    243\u001b[0m \u001b[1;33m\u001b[0m\u001b[0m\n\u001b[0;32m    244\u001b[0m     \u001b[1;32mdef\u001b[0m \u001b[0m_value_or_default\u001b[0m\u001b[1;33m(\u001b[0m\u001b[0mself\u001b[0m\u001b[1;33m,\u001b[0m \u001b[0mobj\u001b[0m\u001b[1;33m,\u001b[0m \u001b[0mkey\u001b[0m\u001b[1;33m,\u001b[0m \u001b[0mdefault\u001b[0m\u001b[1;33m)\u001b[0m\u001b[1;33m:\u001b[0m\u001b[1;33m\u001b[0m\u001b[1;33m\u001b[0m\u001b[0m\n",
      "\u001b[1;31mStaleElementReferenceException\u001b[0m: Message: stale element reference: element is not attached to the page document\n  (Session info: chrome=75.0.3770.90)\n  (Driver info: chromedriver=74.0.3729.6 (255758eccf3d244491b8a1317aa76e1ce10d57e9-refs/branch-heads/3729@{#29}),platform=Windows NT 10.0.17763 x86_64)\n"
     ]
    }
   ],
   "source": [
    "# Could also have done in one line:\n",
    "# actions.move_to_element(element).click(element).perform()"
   ]
  },
  {
   "cell_type": "markdown",
   "metadata": {},
   "source": [
    "Now we can put all this inside a loop that runs until \n",
    "there is no more 'Next' button. <p>\n",
    "<br>\n",
    "Note that after each click and loading of the new content,\n",
    "we need to save the source code and convert it into a soup again."
   ]
  }
 ],
 "metadata": {
  "kernelspec": {
   "display_name": "Python 3",
   "language": "python",
   "name": "python3"
  },
  "language_info": {
   "codemirror_mode": {
    "name": "ipython",
    "version": 3
   },
   "file_extension": ".py",
   "mimetype": "text/x-python",
   "name": "python",
   "nbconvert_exporter": "python",
   "pygments_lexer": "ipython3",
   "version": "3.7.3"
  }
 },
 "nbformat": 4,
 "nbformat_minor": 2
}
