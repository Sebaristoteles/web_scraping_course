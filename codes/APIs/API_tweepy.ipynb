{
 "cells": [
  {
   "cell_type": "markdown",
   "metadata": {},
   "source": [
    "# Tweepy"
   ]
  },
  {
   "cell_type": "markdown",
   "metadata": {},
   "source": [
    "## Tweepy models"
   ]
  },
  {
   "cell_type": "markdown",
   "metadata": {},
   "source": [
    "Enter authentifcation details in following code block and run it."
   ]
  },
  {
   "cell_type": "code",
   "execution_count": null,
   "metadata": {},
   "outputs": [],
   "source": [
    "# %load APIs/twitter_auth\n",
    "\n",
    "import tweepy\n",
    "\n",
    "# Consumer keys and access tokens, used for OAuth\n",
    "consumer_key = '...'\n",
    "consumer_secret = '...'\n",
    "access_token = '...'\n",
    "access_token_secret = '...'\n",
    "\n",
    "# OAuth process, using the keys and tokens\n",
    "auth = tweepy.OAuthHandler(consumer_key, consumer_secret)\n",
    "auth.set_access_token(access_token, access_token_secret)\n"
   ]
  },
  {
   "cell_type": "markdown",
   "metadata": {},
   "source": [
    "Setup connection to twitter API"
   ]
  },
  {
   "cell_type": "code",
   "execution_count": null,
   "metadata": {},
   "outputs": [],
   "source": [
    "api = tweepy.API(auth)"
   ]
  },
  {
   "cell_type": "markdown",
   "metadata": {},
   "source": [
    "Use get_user() function to send request to API"
   ]
  },
  {
   "cell_type": "code",
   "execution_count": null,
   "metadata": {},
   "outputs": [],
   "source": [
    "user = api.get_user('twitter')"
   ]
  },
  {
   "cell_type": "markdown",
   "metadata": {},
   "source": [
    "Explore data"
   ]
  },
  {
   "cell_type": "code",
   "execution_count": 14,
   "metadata": {},
   "outputs": [
    {
     "data": {
      "text/plain": [
       "Twitter\n",
       "56238353\n",
       "TwitterMexico\n",
       "TwitterMiami\n",
       "TwitterBizJP\n",
       "TwitterTogether\n",
       "TwitterMediaJP\n",
       "TwitterSeguro\n",
       "AdsAPI\n",
       "pichette\n",
       "TwitterA11y\n",
       "TwitterComms\n",
       "TwitterSportsCA\n",
       "TwitterVideoIN\n",
       "TwitterREW\n",
       "TwitterMktgFR\n",
       "JoinTheFlockJP\n",
       "TwitterMktgBR\n",
       "TwitterSportsJP\n",
       "TwitterDevJP\n",
       "TwitterMedia\n",
       "PeriscopeHelp"
      ]
     },
     "execution_count": 1,
     "metadata": {},
     "output_type": "execute_result"
    }
   ],
   "source": [
    "# tweepy models contain the data plus and some methods.\n",
    "print(user.screen_name)\n",
    "print(user.followers_count)\n",
    "for friend in user.friends():\n",
    "    print(friend.screen_name)"
   ]
  },
  {
   "cell_type": "markdown",
   "metadata": {},
   "source": [
    "## Tweepy JSON"
   ]
  },
  {
   "cell_type": "code",
   "execution_count": 1,
   "metadata": {},
   "outputs": [],
   "source": [
    "import tweepy\n",
    "import json\n",
    "import pprint"
   ]
  },
  {
   "cell_type": "markdown",
   "metadata": {},
   "source": [
    "Function to get tweets from user timeline\n",
    "<ol>\n",
    "    <li>Create list of all tweets that the Cursor will return\n",
    "    <li>Get JSON\n",
    "    <li>Use Cursor to iterate through pages\n",
    "    <li>Use user_timeline method\n",
    "    <li>Search for timeline of the account with screen_name\n",
    "    <li>Get extended tweets (i.e. tweets that exceed the 140 character limit)\n",
    "    <li>Limit search to 2 tweets\n",
    "</ol>"
   ]
  },
  {
   "cell_type": "code",
   "execution_count": null,
   "metadata": {},
   "outputs": [],
   "source": [
    "def get_tweets(api, screen_name):\n",
    "    # Get user_timeline from twitter API\n",
    "    tweets_json = [status._json for status in tweepy.Cursor(\n",
    "        api.user_timeline,\n",
    "        screen_name=screen_name,\n",
    "        tweet_mode='extended'\n",
    "    ).items(2)]\n",
    "    return tweets_json"
   ]
  },
  {
   "cell_type": "markdown",
   "metadata": {},
   "source": [
    "Dates are returned as strings. We will use regex to parse the date to the datetime format in Python."
   ]
  },
  {
   "cell_type": "code",
   "execution_count": null,
   "metadata": {},
   "outputs": [],
   "source": [
    "# %load APIs/twitter_datetime\n",
    "\n",
    "import re\n",
    "from datetime import datetime\n",
    "\n",
    "# Date parser for the format twitter API returns\n",
    "datetime_format = \"%a %b %d %H:%M:%S %z %Y\"\n",
    "datetime_format_regex = re.compile(\n",
    "    r'^\\w+\\s\\w+\\s\\d{2}\\s\\d{2}:\\d{2}:\\d{2}\\s\\+\\d{4}\\s\\d{4}$'\n",
    ")\n",
    "\n",
    "\n",
    "# Datetime parser inspired by https://stackoverflow.com/a/46076215\n",
    "def datetime_parser(dct):\n",
    "    for k, v in dct.items():\n",
    "        if isinstance(v, str) and datetime_format_regex.match(v):\n",
    "            dct[k] = datetime.strptime(v, datetime_format)\n",
    "    return dct"
   ]
  },
  {
   "cell_type": "markdown",
   "metadata": {},
   "source": [
    "Covert JSON to string in order to load it again with the datetime_parser."
   ]
  },
  {
   "cell_type": "code",
   "execution_count": null,
   "metadata": {},
   "outputs": [],
   "source": [
    "datajsondump = json.dumps(tweets)\n",
    "datajson = json.loads(datajsondump, object_hook=datetime_parser)"
   ]
  },
  {
   "cell_type": "markdown",
   "metadata": {},
   "source": [
    "Now pretty print result"
   ]
  },
  {
   "cell_type": "code",
   "execution_count": null,
   "metadata": {},
   "outputs": [],
   "source": [
    "pprint.pprint(datajson)"
   ]
  }
 ],
 "metadata": {
  "kernelspec": {
   "display_name": "web_scraping_course",
   "language": "python",
   "name": "webscraping_course"
  },
  "language_info": {
   "codemirror_mode": {
    "name": "ipython",
    "version": 3
   },
   "file_extension": ".py",
   "mimetype": "text/x-python",
   "name": "python",
   "nbconvert_exporter": "python",
   "pygments_lexer": "ipython3",
   "version": "3.7.3"
  }
 },
 "nbformat": 4,
 "nbformat_minor": 2
}
