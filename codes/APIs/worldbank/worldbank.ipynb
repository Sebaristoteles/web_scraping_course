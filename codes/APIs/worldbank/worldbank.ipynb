{
 "cells": [
  {
   "cell_type": "markdown",
   "metadata": {},
   "source": [
    "# World Bank API"
   ]
  },
  {
   "cell_type": "markdown",
   "metadata": {},
   "source": [
    "<b>Search following documentations to construct queries:</b>\n",
    "\n",
    "Worldbank API documentation\n",
    "https://datahelpdesk.worldbank.org/knowledgebase/articles/889386-developer-information-overview\n",
    "\n",
    "world_bank_data package documentation\n",
    "https://github.com/mwouts/world_bank_data\n"
   ]
  },
  {
   "cell_type": "code",
   "execution_count": null,
   "metadata": {},
   "outputs": [],
   "source": [
    "# %load APIs/wb_api.py\n",
    "\n",
    "import world_bank_data as wb"
   ]
  },
  {
   "cell_type": "code",
   "execution_count": null,
   "metadata": {},
   "outputs": [],
   "source": [
    "# Get estimates for the world population:\n",
    "wb.get_series('SP.POP.TOTL', date='2017')"
   ]
  },
  {
   "cell_type": "code",
   "execution_count": null,
   "metadata": {},
   "outputs": [],
   "source": [
    "# Get timeseries of \"Agricultural machinery, tractors\" in Albania\n",
    "wb.get_series('AG.AGR.TRAC.NO', country='ALB')"
   ]
  }
 ],
 "metadata": {
  "kernelspec": {
   "display_name": "web_scraping_course",
   "language": "python",
   "name": "webscraping_course"
  },
  "language_info": {
   "codemirror_mode": {
    "name": "ipython",
    "version": 3
   },
   "file_extension": ".py",
   "mimetype": "text/x-python",
   "name": "python",
   "nbconvert_exporter": "python",
   "pygments_lexer": "ipython3",
   "version": "3.7.3"
  }
 },
 "nbformat": 4,
 "nbformat_minor": 2
}
